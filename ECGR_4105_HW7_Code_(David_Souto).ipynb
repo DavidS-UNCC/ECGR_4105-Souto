{
  "cells": [
    {
      "cell_type": "markdown",
      "metadata": {
        "id": "view-in-github",
        "colab_type": "text"
      },
      "source": [
        "<a href=\"https://colab.research.google.com/github/DavidS-UNCC/ECGR_4105-Souto/blob/main/ECGR_4105_HW7_Code_(David_Souto).ipynb\" target=\"_parent\"><img src=\"https://colab.research.google.com/assets/colab-badge.svg\" alt=\"Open In Colab\"/></a>"
      ]
    },
    {
      "cell_type": "markdown",
      "metadata": {
        "id": "8-1TmneSk1SP"
      },
      "source": [
        "##Homework 7"
      ]
    },
    {
      "cell_type": "markdown",
      "metadata": {
        "id": "KwPFC9axk1CL"
      },
      "source": [
        "#Problem 1"
      ]
    },
    {
      "cell_type": "code",
      "execution_count": null,
      "metadata": {
        "colab": {
          "base_uri": "https://localhost:8080/"
        },
        "id": "T31Ie0vv3ops",
        "outputId": "5ee498a0-3324-4a4d-8a94-6ba85fcae68a"
      },
      "outputs": [
        {
          "output_type": "stream",
          "name": "stdout",
          "text": [
            "Mon Dec  9 13:42:12 2024       \n",
            "+---------------------------------------------------------------------------------------+\n",
            "| NVIDIA-SMI 535.104.05             Driver Version: 535.104.05   CUDA Version: 12.2     |\n",
            "|-----------------------------------------+----------------------+----------------------+\n",
            "| GPU  Name                 Persistence-M | Bus-Id        Disp.A | Volatile Uncorr. ECC |\n",
            "| Fan  Temp   Perf          Pwr:Usage/Cap |         Memory-Usage | GPU-Util  Compute M. |\n",
            "|                                         |                      |               MIG M. |\n",
            "|=========================================+======================+======================|\n",
            "|   0  Tesla T4                       Off | 00000000:00:04.0 Off |                    0 |\n",
            "| N/A   46C    P8              10W /  70W |      0MiB / 15360MiB |      0%      Default |\n",
            "|                                         |                      |                  N/A |\n",
            "+-----------------------------------------+----------------------+----------------------+\n",
            "                                                                                         \n",
            "+---------------------------------------------------------------------------------------+\n",
            "| Processes:                                                                            |\n",
            "|  GPU   GI   CI        PID   Type   Process name                            GPU Memory |\n",
            "|        ID   ID                                                             Usage      |\n",
            "|=======================================================================================|\n",
            "|  No running processes found                                                           |\n",
            "+---------------------------------------------------------------------------------------+\n"
          ]
        }
      ],
      "source": [
        "!nvidia-smi"
      ]
    },
    {
      "cell_type": "markdown",
      "metadata": {
        "id": "UQMDCzx1k7eq"
      },
      "source": [
        "Part a"
      ]
    },
    {
      "cell_type": "code",
      "execution_count": null,
      "metadata": {
        "id": "a89Om5jtkzev"
      },
      "outputs": [],
      "source": [
        "# Import libraries\n",
        "import torch\n",
        "import torch.nn as nn\n",
        "import torch.optim as optim\n",
        "from torchvision import datasets, transforms\n",
        "from torch.utils.data import DataLoader\n",
        "import time\n",
        "import matplotlib.pyplot as plt\n",
        "from sklearn.metrics import accuracy_score\n",
        "\n",
        "import torch.nn.functional as F"
      ]
    },
    {
      "cell_type": "code",
      "execution_count": null,
      "metadata": {
        "id": "AxQG3G7hlMNS"
      },
      "outputs": [],
      "source": [
        "# Set device\n",
        "device = torch.device(\"cuda\" if torch.cuda.is_available() else \"cpu\")"
      ]
    },
    {
      "cell_type": "code",
      "execution_count": null,
      "metadata": {
        "colab": {
          "base_uri": "https://localhost:8080/"
        },
        "id": "6otZ8mn-nICJ",
        "outputId": "75c1ebd6-497b-49fb-fbeb-2f383052d1c5"
      },
      "outputs": [
        {
          "output_type": "stream",
          "name": "stdout",
          "text": [
            "Downloading https://www.cs.toronto.edu/~kriz/cifar-10-python.tar.gz to ./data/cifar-10-python.tar.gz\n"
          ]
        },
        {
          "output_type": "stream",
          "name": "stderr",
          "text": [
            "100%|██████████| 170M/170M [00:03<00:00, 49.9MB/s]\n"
          ]
        },
        {
          "output_type": "stream",
          "name": "stdout",
          "text": [
            "Extracting ./data/cifar-10-python.tar.gz to ./data\n",
            "Files already downloaded and verified\n"
          ]
        }
      ],
      "source": [
        "# Load CIFAR-10 dataset\n",
        "transform = transforms.Compose([\n",
        "    transforms.ToTensor(),\n",
        "    transforms.Normalize((0.5, 0.5, 0.5), (0.5, 0.5, 0.5))  # Normalize to [-1, 1]\n",
        "])\n",
        "\n",
        "train_dataset = datasets.CIFAR10(root=\"./data\", train=True, transform=transform, download=True)\n",
        "test_dataset = datasets.CIFAR10(root=\"./data\", train=False, transform=transform, download=True)\n",
        "\n",
        "batch_size = 128\n",
        "train_loader = DataLoader(train_dataset, batch_size=batch_size, shuffle=True)\n",
        "test_loader = DataLoader(test_dataset, batch_size=batch_size, shuffle=False)"
      ]
    },
    {
      "cell_type": "code",
      "execution_count": null,
      "metadata": {
        "id": "Wcs_BwqDnOkW"
      },
      "outputs": [],
      "source": [
        "class BaselineCNN(nn.Module):\n",
        "    def __init__(self):\n",
        "        super(BaselineCNN, self).__init__()\n",
        "        self.conv1 = nn.Conv2d(3, 32, kernel_size=3, padding=1)\n",
        "        self.conv2 = nn.Conv2d(32, 64, kernel_size=3, padding=1)\n",
        "        self.pool = nn.MaxPool2d(2, 2)\n",
        "        self.flatten = nn.Flatten()\n",
        "\n",
        "        # Fully connected layers\n",
        "        self.fc1 = nn.Linear(64 * 16 * 16, 256)  # Adjusted size\n",
        "        self.fc2 = nn.Linear(256, 10)\n",
        "\n",
        "    def forward(self, x):\n",
        "        x = F.relu(self.conv1(x))\n",
        "        x = self.pool(F.relu(self.conv2(x)))\n",
        "\n",
        "        x = self.flatten(x)\n",
        "        x = F.relu(self.fc1(x))\n",
        "        x = self.fc2(x)\n",
        "        return x"
      ]
    },
    {
      "cell_type": "code",
      "execution_count": null,
      "metadata": {
        "id": "qCS_9EnPnQuI"
      },
      "outputs": [],
      "source": [
        "# Train and evaluate the model\n",
        "def train_and_evaluate(model, train_loader, test_loader, epochs=200, lr=0.001):\n",
        "    optimizer = optim.Adam(model.parameters(), lr=lr)\n",
        "    loss_fn = nn.CrossEntropyLoss()\n",
        "    train_losses = []\n",
        "\n",
        "    start_time = time.time()\n",
        "    for epoch in range(epochs):\n",
        "        model.train()\n",
        "        epoch_loss = 0\n",
        "\n",
        "        for X, y in train_loader:\n",
        "            X, y = X.to(device), y.to(device)\n",
        "            optimizer.zero_grad()\n",
        "            y_pred = model(X)\n",
        "            loss = loss_fn(y_pred, y)\n",
        "            loss.backward()\n",
        "            optimizer.step()\n",
        "            epoch_loss += loss.item()\n",
        "\n",
        "        train_losses.append(epoch_loss / len(train_loader))\n",
        "\n",
        "        # Print progress every 20 epochs\n",
        "        if epoch % 10 == 0:\n",
        "            print(f\"Epoch {epoch}/{epochs}: Train Loss = {epoch_loss / len(train_loader):.4f}\")\n",
        "\n",
        "    training_time = time.time() - start_time\n",
        "\n",
        "    # Evaluate on test set\n",
        "    model.eval()\n",
        "    all_preds, all_labels = [], []\n",
        "    with torch.no_grad():\n",
        "        for X, y in test_loader:\n",
        "            X, y = X.to(device), y.to(device)\n",
        "            y_pred = model(X)\n",
        "            all_preds.extend(torch.argmax(y_pred, dim=1).cpu().numpy())\n",
        "            all_labels.extend(y.cpu().numpy())\n",
        "\n",
        "    test_accuracy = accuracy_score(all_labels, all_preds)\n",
        "\n",
        "    return train_losses, test_accuracy, training_time"
      ]
    },
    {
      "cell_type": "code",
      "execution_count": null,
      "metadata": {
        "colab": {
          "base_uri": "https://localhost:8080/"
        },
        "id": "p9Vrg1g1nSsN",
        "outputId": "3e8d6698-45e7-45e5-80b5-f3f38e9134ea"
      },
      "outputs": [
        {
          "name": "stdout",
          "output_type": "stream",
          "text": [
            "Training Baseline CNN...\n",
            "Epoch 0/200: Train Loss = 1.2743\n",
            "Epoch 10/200: Train Loss = 0.0481\n",
            "Epoch 20/200: Train Loss = 0.0332\n",
            "Epoch 30/200: Train Loss = 0.0249\n",
            "Epoch 40/200: Train Loss = 0.0118\n",
            "Epoch 50/200: Train Loss = 0.0175\n",
            "Epoch 60/200: Train Loss = 0.0129\n",
            "Epoch 70/200: Train Loss = 0.0105\n",
            "Epoch 80/200: Train Loss = 0.0180\n",
            "Epoch 90/200: Train Loss = 0.0120\n",
            "Epoch 100/200: Train Loss = 0.0119\n",
            "Epoch 110/200: Train Loss = 0.0094\n",
            "Epoch 120/200: Train Loss = 0.0153\n",
            "Epoch 130/200: Train Loss = 0.0219\n",
            "Epoch 140/200: Train Loss = 0.0056\n",
            "Epoch 150/200: Train Loss = 0.0102\n",
            "Epoch 160/200: Train Loss = 0.0056\n",
            "Epoch 170/200: Train Loss = 0.0093\n",
            "Epoch 180/200: Train Loss = 0.0108\n",
            "Epoch 190/200: Train Loss = 0.0163\n"
          ]
        }
      ],
      "source": [
        "# Train Baseline CNN\n",
        "print(\"Training Baseline CNN...\")\n",
        "baseline_model = BaselineCNN().to(device)\n",
        "train_losses_1a, test_accuracy_1a, train_time_1a = train_and_evaluate(baseline_model, train_loader, test_loader)"
      ]
    },
    {
      "cell_type": "code",
      "execution_count": null,
      "metadata": {
        "colab": {
          "base_uri": "https://localhost:8080/",
          "height": 559
        },
        "id": "jN1ztzC4eDdQ",
        "outputId": "1a4dba63-eb6b-4c76-ace9-1ee2f2668005"
      },
      "outputs": [
        {
          "data": {
            "image/png": "[encoded data removed]",
            "text/plain": [
              "<Figure size 640x480 with 1 Axes>"
            ]
          },
          "metadata": {},
          "output_type": "display_data"
        },
        {
          "name": "stdout",
          "output_type": "stream",
          "text": [
            "\n",
            "Baseline CNN Results:\n",
            "Training Time: 3583.24 seconds\n",
            "Final Training Loss: 0.0060\n",
            "Test Accuracy: 69.21%\n"
          ]
        }
      ],
      "source": [
        "# Plot training loss\n",
        "plt.plot(train_losses_1a, label='Training Loss')\n",
        "plt.xlabel('Epochs')\n",
        "plt.ylabel('Loss')\n",
        "plt.title('Baseline CNN: Training Loss')\n",
        "plt.legend()\n",
        "plt.show()\n",
        "\n",
        "# Results\n",
        "print(\"\\nBaseline CNN Results:\")\n",
        "print(f\"Training Time: {train_time_1a:.2f} seconds\")\n",
        "print(f\"Final Training Loss: {train_losses_1a[-1]:.4f}\")\n",
        "print(f\"Test Accuracy: {test_accuracy_1a * 100:.2f}%\")"
      ]
    },
    {
      "cell_type": "markdown",
      "metadata": {
        "id": "LR_Jx_MQk9de"
      },
      "source": [
        "Part b"
      ]
    },
    {
      "cell_type": "code",
      "execution_count": null,
      "metadata": {
        "id": "7rZ7O2iAUQen"
      },
      "outputs": [],
      "source": [
        "# Train and Evaluate Function\n",
        "def train_and_evaluate(model, train_loader, test_loader, epochs=200, display_progress=False):\n",
        "    optimizer = torch.optim.Adam(model.parameters(), lr=0.001)\n",
        "    criterion = nn.CrossEntropyLoss()\n",
        "    train_losses = []\n",
        "    model.train()\n",
        "\n",
        "    start_time = time.time()\n",
        "    for epoch in range(epochs):\n",
        "        epoch_loss = 0.0\n",
        "        for images, labels in train_loader:\n",
        "            images, labels = images.to(device), labels.to(device)\n",
        "            optimizer.zero_grad()\n",
        "            outputs = model(images)\n",
        "            loss = criterion(outputs, labels)\n",
        "            loss.backward()\n",
        "            optimizer.step()\n",
        "            epoch_loss += loss.item()\n",
        "\n",
        "        train_losses.append(epoch_loss / len(train_loader))\n",
        "\n",
        "        # Display progress\n",
        "        if epoch % 10 == 0:\n",
        "            print(f\"Epoch {epoch}/{epochs}, Loss: {train_losses[-1]:.4f}\")\n",
        "\n",
        "    train_time = time.time() - start_time\n",
        "\n",
        "    # Evaluate the model\n",
        "    model.eval()\n",
        "    correct = 0\n",
        "    total = 0\n",
        "    with torch.no_grad():\n",
        "        for images, labels in test_loader:\n",
        "            images, labels = images.to(device), labels.to(device)\n",
        "            outputs = model(images)\n",
        "            _, predicted = torch.max(outputs.data, 1)\n",
        "            total += labels.size(0)\n",
        "            correct += (predicted == labels).sum().item()\n",
        "\n",
        "    test_accuracy = 100 * correct / total\n",
        "    return train_losses, test_accuracy, train_time"
      ]
    },
    {
      "cell_type": "code",
      "execution_count": null,
      "metadata": {
        "id": "qWVOPRaHlF9v"
      },
      "outputs": [],
      "source": [
        "# Define Extended CNN Model\n",
        "class ExtendedCNN(nn.Module):\n",
        "    def __init__(self):\n",
        "        super(ExtendedCNN, self).__init__()\n",
        "        self.conv1 = nn.Conv2d(3, 32, kernel_size=3, padding=1)\n",
        "        self.conv2 = nn.Conv2d(32, 64, kernel_size=3, padding=1)\n",
        "        self.conv3 = nn.Conv2d(64, 128, kernel_size=3, padding=1)\n",
        "        self.pool = nn.MaxPool2d(2, 2)\n",
        "        self.flatten = nn.Flatten()\n",
        "\n",
        "        flattened_size = 128 * 8 * 8\n",
        "        self.fc1 = nn.Linear(flattened_size, 256)  # Fully connected layer\n",
        "        self.fc2 = nn.Linear(256, 10)  # Output layer\n",
        "\n",
        "    def forward(self, x):\n",
        "        x = F.relu(self.conv1(x))\n",
        "        x = self.pool(F.relu(self.conv2(x)))\n",
        "        x = self.pool(F.relu(self.conv3(x)))\n",
        "        x = self.flatten(x)\n",
        "        x = F.relu(self.fc1(x))\n",
        "        x = self.fc2(x)\n",
        "        return x"
      ]
    },
    {
      "cell_type": "code",
      "execution_count": null,
      "metadata": {
        "colab": {
          "base_uri": "https://localhost:8080/"
        },
        "id": "r69h69brnWiK",
        "outputId": "daf89aed-db33-4449-81d3-f9967a1c7279"
      },
      "outputs": [
        {
          "output_type": "stream",
          "name": "stdout",
          "text": [
            "Training Extended CNN...\n",
            "Epoch 0/200, Loss: 1.3122\n",
            "Epoch 10/200, Loss: 0.0520\n",
            "Epoch 20/200, Loss: 0.0305\n",
            "Epoch 30/200, Loss: 0.0209\n",
            "Epoch 40/200, Loss: 0.0141\n",
            "Epoch 50/200, Loss: 0.0186\n",
            "Epoch 60/200, Loss: 0.0153\n",
            "Epoch 70/200, Loss: 0.0111\n",
            "Epoch 80/200, Loss: 0.0136\n",
            "Epoch 90/200, Loss: 0.0209\n",
            "Epoch 100/200, Loss: 0.0147\n",
            "Epoch 110/200, Loss: 0.0105\n",
            "Epoch 120/200, Loss: 0.0152\n",
            "Epoch 130/200, Loss: 0.0200\n",
            "Epoch 140/200, Loss: 0.0155\n",
            "Epoch 150/200, Loss: 0.0148\n",
            "Epoch 160/200, Loss: 0.0124\n",
            "Epoch 170/200, Loss: 0.0275\n",
            "Epoch 180/200, Loss: 0.0268\n",
            "Epoch 190/200, Loss: 0.0178\n"
          ]
        }
      ],
      "source": [
        "# Train Extended CNN\n",
        "print(\"Training Extended CNN...\")\n",
        "extended_model = ExtendedCNN().to(device)\n",
        "train_losses_1b, test_accuracy_1b, train_time_1b = train_and_evaluate(extended_model, train_loader, test_loader)"
      ]
    },
    {
      "cell_type": "code",
      "execution_count": null,
      "metadata": {
        "id": "pzS4cVwDna0C",
        "colab": {
          "base_uri": "https://localhost:8080/",
          "height": 559
        },
        "outputId": "7962324c-08f3-429d-e667-6094f1d70ae3"
      },
      "outputs": [
        {
          "output_type": "display_data",
          "data": {
            "text/plain": [
              "<Figure size 640x480 with 1 Axes>"
            ],
            "image/png": "[encoded data removed]"
          },
          "metadata": {}
        },
        {
          "output_type": "stream",
          "name": "stdout",
          "text": [
            "\n",
            "Extended CNN Results:\n",
            "Training Time: 3990.64 seconds\n",
            "Final Training Loss: 0.0172\n",
            "Test Accuracy: 7389.00%\n"
          ]
        }
      ],
      "source": [
        "# Plot training loss\n",
        "plt.plot(train_losses_1b, label='Training Loss')\n",
        "plt.xlabel('Epochs')\n",
        "plt.ylabel('Loss')\n",
        "plt.title('Extended CNN: Training Loss')\n",
        "plt.legend()\n",
        "plt.show()\n",
        "\n",
        "# Results\n",
        "print(\"\\nExtended CNN Results:\")\n",
        "print(f\"Training Time: {train_time_1b:.2f} seconds\")\n",
        "print(f\"Final Training Loss: {train_losses_1b[-1]:.4f}\")\n",
        "print(f\"Test Accuracy: {test_accuracy_1b * 100:.2f}%\")"
      ]
    },
    {
      "cell_type": "markdown",
      "metadata": {
        "id": "Fj7_KFZkk-dU"
      },
      "source": [
        "#Problem 2"
      ]
    },
    {
      "cell_type": "code",
      "execution_count": null,
      "metadata": {
        "id": "hAaIZfEQlGRO"
      },
      "outputs": [],
      "source": [
        "# Import Libraries\n",
        "import torch\n",
        "import torch.nn as nn\n",
        "import torch.optim as optim\n",
        "import torch.nn.functional as F\n",
        "from torchvision import datasets, transforms\n",
        "from torch.utils.data import DataLoader\n",
        "import time\n",
        "import matplotlib.pyplot as plt"
      ]
    },
    {
      "cell_type": "code",
      "execution_count": null,
      "metadata": {
        "id": "brcW45hW0s6E"
      },
      "outputs": [],
      "source": [
        "# Device configuration\n",
        "device = torch.device(\"cuda\" if torch.cuda.is_available() else \"cpu\")"
      ]
    },
    {
      "cell_type": "code",
      "execution_count": null,
      "metadata": {
        "id": "b4WdP07z1H_9",
        "colab": {
          "base_uri": "https://localhost:8080/"
        },
        "outputId": "20e134bf-6a73-4eec-ea3e-af913afd18a7"
      },
      "outputs": [
        {
          "output_type": "stream",
          "name": "stdout",
          "text": [
            "Files already downloaded and verified\n",
            "Files already downloaded and verified\n"
          ]
        }
      ],
      "source": [
        "# CIFAR-10 Data Loading\n",
        "transform = transforms.Compose([\n",
        "    transforms.ToTensor(),\n",
        "    transforms.Normalize((0.5, 0.5, 0.5), (0.5, 0.5, 0.5))  # Normalize images\n",
        "])\n",
        "\n",
        "train_dataset = datasets.CIFAR10(root='./data', train=True, transform=transform, download=True)\n",
        "test_dataset = datasets.CIFAR10(root='./data', train=False, transform=transform, download=True)\n",
        "\n",
        "train_loader = DataLoader(dataset=train_dataset, batch_size=128, shuffle=True)\n",
        "test_loader = DataLoader(dataset=test_dataset, batch_size=128, shuffle=False)\n"
      ]
    },
    {
      "cell_type": "code",
      "execution_count": null,
      "metadata": {
        "id": "BclRBrF9vusn"
      },
      "outputs": [],
      "source": [
        "# Residual Block\n",
        "class ResBlock(nn.Module):\n",
        "    def __init__(self, n_chans):\n",
        "        super(ResBlock, self).__init__()\n",
        "        self.conv1 = nn.Conv2d(n_chans, n_chans, kernel_size=3, padding=1, bias=False)\n",
        "        self.bn1 = nn.BatchNorm2d(n_chans)\n",
        "        self.conv2 = nn.Conv2d(n_chans, n_chans, kernel_size=3, padding=1, bias=False)\n",
        "        self.bn2 = nn.BatchNorm2d(n_chans)\n",
        "        torch.nn.init.kaiming_normal_(self.conv1.weight, nonlinearity='relu')\n",
        "        torch.nn.init.kaiming_normal_(self.conv2.weight, nonlinearity='relu')\n",
        "\n",
        "    def forward(self, x):\n",
        "        out = self.conv1(x)\n",
        "        out = self.bn1(out)\n",
        "        out = F.relu(out)\n",
        "        out = self.conv2(out)\n",
        "        out = self.bn2(out)\n",
        "        return F.relu(out + x)  # Skip connection"
      ]
    },
    {
      "cell_type": "code",
      "execution_count": null,
      "metadata": {
        "id": "Q6AkZdiJv5qr"
      },
      "outputs": [],
      "source": [
        "# ResNet-10\n",
        "class ResNet10(nn.Module):\n",
        "    def __init__(self, n_chans=64, n_blocks=10):\n",
        "        super(ResNet10, self).__init__()\n",
        "        self.conv1 = nn.Conv2d(3, n_chans, kernel_size=3, padding=1)\n",
        "        self.bn1 = nn.BatchNorm2d(n_chans)\n",
        "        self.resblocks = nn.Sequential(*(ResBlock(n_chans) for _ in range(n_blocks)))\n",
        "        self.fc1 = nn.Linear(n_chans * 8 * 8, 256)\n",
        "        self.fc2 = nn.Linear(256, 10)  # 10 classes for CIFAR-10\n",
        "\n",
        "    def forward(self, x):\n",
        "        x = F.relu(self.bn1(self.conv1(x)))\n",
        "        x = F.max_pool2d(x, 2)\n",
        "        x = self.resblocks(x)\n",
        "        x = F.max_pool2d(x, 2)\n",
        "        x = torch.flatten(x, 1)  # Flatten the tensor\n",
        "        x = F.relu(self.fc1(x))\n",
        "        x = self.fc2(x)\n",
        "        return x"
      ]
    },
    {
      "cell_type": "code",
      "execution_count": null,
      "metadata": {
        "id": "wtJfTrj30x59"
      },
      "outputs": [],
      "source": [
        "# Training and Evaluation Function\n",
        "def train_and_evaluate(model, train_loader, test_loader, epochs=200, lr=0.01):\n",
        "    optimizer = optim.Adam(model.parameters(), lr=lr)\n",
        "    criterion = nn.CrossEntropyLoss()\n",
        "    train_losses = []\n",
        "    test_accuracies = []\n",
        "    model.train()\n",
        "    start_time = time.time()\n",
        "\n",
        "    for epoch in range(epochs):\n",
        "        running_loss = 0.0\n",
        "        for inputs, labels in train_loader:\n",
        "            inputs, labels = inputs.to(device), labels.to(device)\n",
        "            optimizer.zero_grad()\n",
        "            outputs = model(inputs)\n",
        "            loss = criterion(outputs, labels)\n",
        "            loss.backward()\n",
        "            optimizer.step()\n",
        "            running_loss += loss.item()\n",
        "\n",
        "        # Record training loss\n",
        "        avg_loss = running_loss / len(train_loader)\n",
        "        train_losses.append(avg_loss)\n",
        "\n",
        "        # Evaluate on the test set\n",
        "        model.eval()\n",
        "        correct = 0\n",
        "        total = 0\n",
        "        with torch.no_grad():\n",
        "            for inputs, labels in test_loader:\n",
        "                inputs, labels = inputs.to(device), labels.to(device)\n",
        "                outputs = model(inputs)\n",
        "                _, predicted = torch.max(outputs, 1)\n",
        "                total += labels.size(0)\n",
        "                correct += (predicted == labels).sum().item()\n",
        "\n",
        "        accuracy = correct / total\n",
        "        test_accuracies.append(accuracy)\n",
        "\n",
        "        model.train()  # Switch back to training mode\n",
        "        if (epoch + 1) % 10 == 0:  # Print every 10 epochs\n",
        "            print(f\"Epoch [{epoch + 1}/{epochs}], Loss: {avg_loss:.4f}, Accuracy: {accuracy:.4f}\")\n",
        "\n",
        "    end_time = time.time()\n",
        "    training_time = end_time - start_time\n",
        "    return train_losses, test_accuracies, training_time"
      ]
    },
    {
      "cell_type": "code",
      "execution_count": null,
      "metadata": {
        "id": "knZkzvi-v7CL",
        "colab": {
          "base_uri": "https://localhost:8080/"
        },
        "outputId": "4e750aee-201a-4ca2-8be5-1d2c6fd7bcd7"
      },
      "outputs": [
        {
          "output_type": "stream",
          "name": "stdout",
          "text": [
            "Epoch [10/200], Loss: 0.5779, Accuracy: 0.6865\n",
            "Epoch [20/200], Loss: 0.2810, Accuracy: 0.6988\n",
            "Epoch [30/200], Loss: 0.1780, Accuracy: 0.6942\n",
            "Epoch [40/200], Loss: 0.1334, Accuracy: 0.6993\n",
            "Epoch [50/200], Loss: 0.1216, Accuracy: 0.6946\n",
            "Epoch [60/200], Loss: 0.1254, Accuracy: 0.6955\n",
            "Epoch [70/200], Loss: 0.1124, Accuracy: 0.7002\n",
            "Epoch [80/200], Loss: 0.1003, Accuracy: 0.6966\n",
            "Epoch [90/200], Loss: 0.0966, Accuracy: 0.7061\n",
            "Epoch [100/200], Loss: 0.1074, Accuracy: 0.7067\n",
            "Epoch [110/200], Loss: 0.0834, Accuracy: 0.7031\n",
            "Epoch [120/200], Loss: 0.0992, Accuracy: 0.6917\n",
            "Epoch [130/200], Loss: 0.0994, Accuracy: 0.6986\n",
            "Epoch [140/200], Loss: 0.1031, Accuracy: 0.7031\n",
            "Epoch [150/200], Loss: 0.0963, Accuracy: 0.7037\n",
            "Epoch [160/200], Loss: 0.0803, Accuracy: 0.7015\n",
            "Epoch [170/200], Loss: 0.0897, Accuracy: 0.7049\n",
            "Epoch [180/200], Loss: 0.0749, Accuracy: 0.7083\n",
            "Epoch [190/200], Loss: 0.1207, Accuracy: 0.7077\n",
            "Epoch [200/200], Loss: 0.0791, Accuracy: 0.7111\n"
          ]
        }
      ],
      "source": [
        "# Initialize and Train the ResNet-10 Model\n",
        "resnet_model = ResNet10().to(device)\n",
        "train_losses_resnet, test_accuracies_resnet, train_time_resnet = train_and_evaluate(\n",
        "    resnet_model, train_loader, test_loader, epochs=200\n",
        ")"
      ]
    },
    {
      "cell_type": "code",
      "execution_count": null,
      "metadata": {
        "id": "xbWzYE2xv87D",
        "colab": {
          "base_uri": "https://localhost:8080/",
          "height": 472
        },
        "outputId": "17a81314-b8b0-40d0-d40e-4a32f65fcdda"
      },
      "outputs": [
        {
          "output_type": "display_data",
          "data": {
            "text/plain": [
              "<Figure size 640x480 with 1 Axes>"
            ],
            "image/png": "[encoded data removed]"
          },
          "metadata": {}
        }
      ],
      "source": [
        "# Plot training loss\n",
        "plt.plot(train_losses_resnet, label=\"Training Loss\")\n",
        "plt.xlabel(\"Epochs\")\n",
        "plt.ylabel(\"Loss\")\n",
        "plt.title(\"ResNet-10: Training Loss\")\n",
        "plt.legend()\n",
        "plt.show()"
      ]
    },
    {
      "cell_type": "code",
      "execution_count": null,
      "metadata": {
        "id": "786PZAkgv-dX",
        "colab": {
          "base_uri": "https://localhost:8080/"
        },
        "outputId": "b9fa4a72-1f6a-416b-b852-89bc6e4fc37e"
      },
      "outputs": [
        {
          "output_type": "stream",
          "name": "stdout",
          "text": [
            "\n",
            "ResNet-10 Results:\n",
            "Training Time: 6684.89 seconds\n",
            "Final Training Loss: 0.0791\n",
            "Test Accuracy: 71.11%\n"
          ]
        }
      ],
      "source": [
        "# Results\n",
        "print(\"\\nResNet-10 Results:\")\n",
        "print(f\"Training Time: {train_time_resnet:.2f} seconds\")\n",
        "print(f\"Final Training Loss: {train_losses_resnet[-1]:.4f}\")\n",
        "print(f\"Test Accuracy: {test_accuracies_resnet[-1] * 100:.2f}%\")"
      ]
    }
  ],
  "metadata": {
    "colab": {
      "provenance": [],
      "gpuType": "T4",
      "include_colab_link": true
    },
    "kernelspec": {
      "display_name": "Python 3",
      "name": "python3"
    },
    "language_info": {
      "name": "python"
    },
    "accelerator": "GPU"
  },
  "nbformat": 4,
  "nbformat_minor": 0
}